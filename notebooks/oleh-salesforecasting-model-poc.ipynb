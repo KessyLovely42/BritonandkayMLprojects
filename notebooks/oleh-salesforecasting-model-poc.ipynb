{
 "cells": [
  {
   "cell_type": "markdown",
   "metadata": {},
   "source": [
    "# INTRODUCTION\n",
    "This notebook contains sales forecasting model proof of concept and experiments for Briton and kay supermarket Oleh Branch\n",
    "..."
   ]
  },
  {
   "cell_type": "markdown",
   "metadata": {},
   "source": [
    "# LIBRARY IMPORTATION"
   ]
  },
  {
   "cell_type": "code",
   "execution_count": 1,
   "metadata": {},
   "outputs": [],
   "source": [
    "#import data manipulation libraries\n",
    "import os\n",
    "\n",
    "import pandas as pd\n",
    "import numpy as np\n",
    "import pdfplumber\n",
    "\n",
    "import re\n",
    "\n",
    "# import data visualization libraries\n",
    "import seaborn as sns \n",
    "import matplotlib as plt \n",
    "\n",
    "\n",
    "from pathlib import Path"
   ]
  },
  {
   "cell_type": "markdown",
   "metadata": {},
   "source": [
    "# EXPLORATORY DATA ANALYSIS"
   ]
  },
  {
   "cell_type": "markdown",
   "metadata": {},
   "source": [
    "### Importation of raw data"
   ]
  },
  {
   "cell_type": "code",
   "execution_count": null,
   "metadata": {},
   "outputs": [
    {
     "name": "stdout",
     "output_type": "stream",
     "text": [
      " processed page 10121 with 43 text lines  "
     ]
    }
   ],
   "source": [
    "#raw data path\n",
    "raw_data_path = Path.joinpath(Path.cwd().parent,\"data/raw/details.pdf\")\n",
    "#create an empty list of dataframes\n",
    "data_frames = []\n",
    "try: \n",
    "    with pdfplumber.open(raw_data_path) as pdf:\n",
    "            for page_index, page in enumerate(pdf.pages):\n",
    "                rows=[]\n",
    "                lines = page.extract_text_lines()\n",
    "                sales_group = []  # Temporary storage for rows starting with a date\n",
    "                for j, line in enumerate(lines):\n",
    "                    if j > 3:  # Skip the first 3 lines\n",
    "                        date_pattern = r\"^\\d{2}/\\d{2}/\\d{4}\" # regular expression to detect date\n",
    "                        line_text = line['text']\n",
    "                        if re.match(date_pattern, line_text):  # Check if the line starts with a date\n",
    "                            sales_group = line_text.split(' ')\n",
    "                            if len(sales_group) >10:\n",
    "                                sales_group[:5] =  sales_group[:5] \n",
    "                                sales_group[5] = \" \".join(sales_group[5:-4])\n",
    "                                sales_group[-4:] = sales_group[-4:]\n",
    "                        else:\n",
    "                            # Split the string into 4 parts\n",
    "                            split_line = line_text.split()\n",
    "                            if len(split_line) >= 4:\n",
    "                                row = [\n",
    "                                    split_line[0],  # First item\n",
    "                                    \" \".join(split_line[1:-2]),  # Middle items\n",
    "                                    split_line[-2],  # Second-to-last item\n",
    "                                    split_line[-1],  # Last item\n",
    "                                ]\n",
    "                            else:\n",
    "                                # Handle cases where the line has fewer than 4 items\n",
    "                                row = split_line + [''] * (4 - len(split_line)) #pad to ensure 4 elements\n",
    "                            if len(sales_group)<10:\n",
    "                                sales_group = sales_group + [''] * (10 - len(sales_group)) #pad to ensure 10 elements\n",
    "                            # Append the new row to the temporary rows\n",
    "                            combined_row = sales_group + row  # Combine sales_group and row\n",
    "                            combined_row = combined_row[:14]  # Ensure length is 13\n",
    "                            rows.append(combined_row)  # Add to the final rows for the page\n",
    "\n",
    "                # if page_index == 10:\n",
    "                #      print('maximum page reached')\n",
    "                #      break\n",
    "                print(f'\\r processed page {page_index} with {len(lines)} text lines', end=\" \")  \n",
    "                page_df = pd.DataFrame(rows, columns=['Date','Receipt_no', 'Receipt_type', 'Total_qnty', \n",
    "                                                    'Total_amount', 'Payment_type', 'Time','Time_of_day', 'Cashpoint_number', 'Cashier', \n",
    "                                                            'item_no', 'product_name', 'quantity','amount'])\n",
    "                data_frames.append(page_df)\n",
    "except FileNotFoundError:\n",
    "    print('\\n file path does not exist')\n",
    "# except Exception as e :\n",
    "#     print(f'\\n something went wrong: \\n {e}')\n"
   ]
  },
  {
   "cell_type": "code",
   "execution_count": 30,
   "metadata": {},
   "outputs": [
    {
     "data": {
      "text/plain": [
       "10122"
      ]
     },
     "execution_count": 30,
     "metadata": {},
     "output_type": "execute_result"
    }
   ],
   "source": [
    "len(data_frames)"
   ]
  },
  {
   "cell_type": "code",
   "execution_count": null,
   "metadata": {},
   "outputs": [
    {
     "data": {
      "text/html": [
       "<div>\n",
       "<style scoped>\n",
       "    .dataframe tbody tr th:only-of-type {\n",
       "        vertical-align: middle;\n",
       "    }\n",
       "\n",
       "    .dataframe tbody tr th {\n",
       "        vertical-align: top;\n",
       "    }\n",
       "\n",
       "    .dataframe thead th {\n",
       "        text-align: right;\n",
       "    }\n",
       "</style>\n",
       "<table border=\"1\" class=\"dataframe\">\n",
       "  <thead>\n",
       "    <tr style=\"text-align: right;\">\n",
       "      <th></th>\n",
       "      <th>Date</th>\n",
       "      <th>Receipt_no</th>\n",
       "      <th>Receipt_type</th>\n",
       "      <th>Total_qnty</th>\n",
       "      <th>Total_amount</th>\n",
       "      <th>Payment_type</th>\n",
       "      <th>Time</th>\n",
       "      <th>Time_of_day</th>\n",
       "      <th>Cashpoint_number</th>\n",
       "      <th>Cashier</th>\n",
       "      <th>item_no</th>\n",
       "      <th>product_name</th>\n",
       "      <th>quantity</th>\n",
       "      <th>amount</th>\n",
       "    </tr>\n",
       "  </thead>\n",
       "  <tbody>\n",
       "    <tr>\n",
       "      <th>0</th>\n",
       "      <td>12/01/2022</td>\n",
       "      <td>437170</td>\n",
       "      <td>Sales</td>\n",
       "      <td>1</td>\n",
       "      <td>600.00</td>\n",
       "      <td>Cash</td>\n",
       "      <td>10:10:31</td>\n",
       "      <td>pm</td>\n",
       "      <td>14</td>\n",
       "      <td>DIRECTOR</td>\n",
       "      <td>8893</td>\n",
       "      <td>KOLAQ ALAGBO BITTERS 200ML</td>\n",
       "      <td>1</td>\n",
       "      <td>600.00</td>\n",
       "    </tr>\n",
       "    <tr>\n",
       "      <th>1</th>\n",
       "      <td>12/01/2022</td>\n",
       "      <td>437169</td>\n",
       "      <td>Sales</td>\n",
       "      <td>2</td>\n",
       "      <td>470.00</td>\n",
       "      <td>Cash</td>\n",
       "      <td>10:10:08</td>\n",
       "      <td>pm</td>\n",
       "      <td>14</td>\n",
       "      <td>DIRECTOR</td>\n",
       "      <td>1405</td>\n",
       "      <td>COCA COLA PET 60CL</td>\n",
       "      <td>1</td>\n",
       "      <td>170.00</td>\n",
       "    </tr>\n",
       "    <tr>\n",
       "      <th>2</th>\n",
       "      <td>12/01/2022</td>\n",
       "      <td>437169</td>\n",
       "      <td>Sales</td>\n",
       "      <td>2</td>\n",
       "      <td>470.00</td>\n",
       "      <td>Cash</td>\n",
       "      <td>10:10:08</td>\n",
       "      <td>pm</td>\n",
       "      <td>14</td>\n",
       "      <td>DIRECTOR</td>\n",
       "      <td>90</td>\n",
       "      <td>MCVITE'S DIGESTIVE 104G</td>\n",
       "      <td>1</td>\n",
       "      <td>300.00</td>\n",
       "    </tr>\n",
       "    <tr>\n",
       "      <th>3</th>\n",
       "      <td>12/01/2022</td>\n",
       "      <td>437168</td>\n",
       "      <td>Sales</td>\n",
       "      <td>1</td>\n",
       "      <td>100.00</td>\n",
       "      <td>Cash</td>\n",
       "      <td>10:09:10</td>\n",
       "      <td>pm</td>\n",
       "      <td>14</td>\n",
       "      <td>DIRECTOR</td>\n",
       "      <td>7347</td>\n",
       "      <td>ROENEX SMALLEST PEANUTS</td>\n",
       "      <td>1</td>\n",
       "      <td>100.00</td>\n",
       "    </tr>\n",
       "    <tr>\n",
       "      <th>4</th>\n",
       "      <td>12/01/2022</td>\n",
       "      <td>437173</td>\n",
       "      <td>Sales</td>\n",
       "      <td>2</td>\n",
       "      <td>2,100.00</td>\n",
       "      <td>Debit Card</td>\n",
       "      <td>Card</td>\n",
       "      <td>10:14:36</td>\n",
       "      <td>pm</td>\n",
       "      <td>14</td>\n",
       "      <td>DIRECTOR</td>\n",
       "      <td>2855</td>\n",
       "      <td>EASY ON SPRAY STARCH NEW</td>\n",
       "      <td>BLUE1</td>\n",
       "    </tr>\n",
       "  </tbody>\n",
       "</table>\n",
       "</div>"
      ],
      "text/plain": [
       "         Date Receipt_no Receipt_type Total_qnty Total_amount Payment_type  \\\n",
       "0  12/01/2022     437170        Sales          1       600.00         Cash   \n",
       "1  12/01/2022     437169        Sales          2       470.00         Cash   \n",
       "2  12/01/2022     437169        Sales          2       470.00         Cash   \n",
       "3  12/01/2022     437168        Sales          1       100.00         Cash   \n",
       "4  12/01/2022     437173        Sales          2     2,100.00   Debit Card   \n",
       "\n",
       "       Time Time_of_day Cashpoint_number   Cashier   item_no  \\\n",
       "0  10:10:31          pm               14  DIRECTOR      8893   \n",
       "1  10:10:08          pm               14  DIRECTOR      1405   \n",
       "2  10:10:08          pm               14  DIRECTOR        90   \n",
       "3  10:09:10          pm               14  DIRECTOR      7347   \n",
       "4      Card    10:14:36               pm        14  DIRECTOR   \n",
       "\n",
       "                 product_name                  quantity  amount  \n",
       "0  KOLAQ ALAGBO BITTERS 200ML                         1  600.00  \n",
       "1          COCA COLA PET 60CL                         1  170.00  \n",
       "2     MCVITE'S DIGESTIVE 104G                         1  300.00  \n",
       "3     ROENEX SMALLEST PEANUTS                         1  100.00  \n",
       "4                        2855  EASY ON SPRAY STARCH NEW   BLUE1  "
      ]
     },
     "execution_count": 31,
     "metadata": {},
     "output_type": "execute_result"
    }
   ],
   "source": [
    "main_df = pd.concat(data_frames, ignore_index= True)\n",
    "main_df.head()"
   ]
  },
  {
   "cell_type": "code",
   "execution_count": 32,
   "metadata": {},
   "outputs": [
    {
     "data": {
      "text/plain": [
       "(426032, 14)"
      ]
     },
     "execution_count": 32,
     "metadata": {},
     "output_type": "execute_result"
    }
   ],
   "source": [
    "main_df.shape"
   ]
  },
  {
   "cell_type": "code",
   "execution_count": null,
   "metadata": {},
   "outputs": [],
   "source": [
    "#save impported dataframe to CSV\n",
    "imported_data_path = Path.joinpath(Path.cwd().parent,\"data/processed/imported_oleh_sales.csv\")\n",
    "main_df.to_csv(imported_data_path)"
   ]
  },
  {
   "cell_type": "markdown",
   "metadata": {},
   "source": [
    "### Structural and Quality investigation"
   ]
  },
  {
   "cell_type": "code",
   "execution_count": null,
   "metadata": {},
   "outputs": [
    {
     "name": "stderr",
     "output_type": "stream",
     "text": [
      "/var/folders/0c/vr9_9rds4t10m_q7fxzlb3x00000gn/T/ipykernel_4194/3325350122.py:2: DtypeWarning: Columns (4) have mixed types. Specify dtype option on import or set low_memory=False.\n",
      "  import_df = pd.read_csv(imported_data_path)\n"
     ]
    }
   ],
   "source": [
    "#import the save CSV\n",
    "imported_data_path = Path.joinpath(Path.cwd().parent,\"data/processed/imported_oleh_sales.csv\")\n",
    "import_df = pd.read_csv(imported_data_path)"
   ]
  },
  {
   "cell_type": "code",
   "execution_count": null,
   "metadata": {},
   "outputs": [
    {
     "data": {
      "text/plain": [
       "(426032, 15)"
      ]
     },
     "execution_count": 48,
     "metadata": {},
     "output_type": "execute_result"
    }
   ],
   "source": [
    "\n",
    "import_df.shape"
   ]
  },
  {
   "cell_type": "code",
   "execution_count": null,
   "metadata": {},
   "outputs": [],
   "source": []
  }
 ],
 "metadata": {
  "kernelspec": {
   "display_name": "BritonandkayMLprojects",
   "language": "python",
   "name": "python3"
  },
  "language_info": {
   "codemirror_mode": {
    "name": "ipython",
    "version": 3
   },
   "file_extension": ".py",
   "mimetype": "text/x-python",
   "name": "python",
   "nbconvert_exporter": "python",
   "pygments_lexer": "ipython3",
   "version": "3.12.4"
  }
 },
 "nbformat": 4,
 "nbformat_minor": 2
}
